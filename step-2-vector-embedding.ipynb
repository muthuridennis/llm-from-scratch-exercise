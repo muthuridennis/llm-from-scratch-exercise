{
 "cells": [
  {
   "cell_type": "markdown",
   "id": "40f8b346",
   "metadata": {},
   "source": [
    "## Reading in a short story text sample into Python"
   ]
  },
  {
   "cell_type": "markdown",
   "id": "34e5dc87",
   "metadata": {},
   "source": [
    "Reference code from [llms from scratch](https://github.com/rasbt/LLMs-from-scratch/blob/main/ch02/01_main-chapter-code/ch02.ipynb)"
   ]
  },
  {
   "cell_type": "markdown",
   "id": "817d92f8",
   "metadata": {},
   "source": [
    "## Vector Embedding"
   ]
  },
  {
   "cell_type": "markdown",
   "id": "e0dcaeb7",
   "metadata": {},
   "source": [
    "### Using pre-trained token embeddings"
   ]
  },
  {
   "cell_type": "markdown",
   "id": "33d1b918",
   "metadata": {},
   "source": [
    "Import a Trained Model using [gensim](https://radimrehurek.com/gensim/). Then load the [word2vec-google-news-300](https://huggingface.co/fse/word2vec-google-news-300) vector model from Google which has already been pretrained."
   ]
  },
  {
   "cell_type": "code",
   "execution_count": null,
   "id": "6ace8aa2",
   "metadata": {},
   "outputs": [
    {
     "name": "stdout",
     "output_type": "stream",
     "text": [
      "Attempt 1 to load word2vec-google-news-300...\n",
      "[=============================================-----] 90.8% 1510.0/1662.8MB downloadedError loading model: <urlopen error retrieval incomplete: got only 1583349760 out of 1743563840 bytes>\n",
      "Retrying in 5 seconds...\n",
      "Attempt 2 to load word2vec-google-news-300...\n",
      "[=============================================-----] 90.8% 1510.0/1662.8MB downloadedError loading model: <urlopen error retrieval incomplete: got only 1583349760 out of 1743563840 bytes>\n",
      "Retrying in 5 seconds...\n",
      "Attempt 3 to load word2vec-google-news-300...\n",
      "[====================================--------------] 73.7% 1226.0/1662.8MB downloaded"
     ]
    }
   ],
   "source": [
    "import gensim.downloader as api\n",
    "import time\n",
    "\n",
    "model = None\n",
    "retries = 5\n",
    "delay_seconds = 5\n",
    "\n",
    "for attempt in range(retries):\n",
    "    try:\n",
    "        print(f\"Attempt {attempt + 1} to load word2vec-google-news-300...\")\n",
    "        model = api.load('word2vec-google-news-300')\n",
    "        print(\"Model loaded successfully.\")\n",
    "        break  # Exit loop if successful\n",
    "    except Exception as e:\n",
    "        print(f\"Error loading model: {e}\")\n",
    "        if attempt < retries - 1:\n",
    "            print(f\"Retrying in {delay_seconds} seconds...\")\n",
    "            time.sleep(delay_seconds)\n",
    "        else:\n",
    "            print(\"Max retries reached. Could not load model.\")"
   ]
  },
  {
   "cell_type": "markdown",
   "id": "e155f5a8",
   "metadata": {},
   "source": [
    "Demo using word2vec to be shown."
   ]
  },
  {
   "cell_type": "markdown",
   "id": "8d62b0fb",
   "metadata": {},
   "source": [
    "### Creating our own token embeddings"
   ]
  },
  {
   "cell_type": "markdown",
   "id": "1d0f62d6",
   "metadata": {},
   "source": [
    "Suppose we have input tokens with the ids below"
   ]
  },
  {
   "cell_type": "code",
   "execution_count": 6,
   "id": "235655a9",
   "metadata": {},
   "outputs": [],
   "source": [
    "import torch\n",
    "\n",
    "input_ids = torch.tensor([2, 3, 5, 1])"
   ]
  },
  {
   "cell_type": "markdown",
   "id": "22e72197",
   "metadata": {},
   "source": [
    "For simplicity, we'll create a token embedding with a vocabulary size of 6"
   ]
  },
  {
   "cell_type": "code",
   "execution_count": null,
   "id": "cfdeef2f",
   "metadata": {},
   "outputs": [],
   "source": [
    "vocab_size = 6 #rows\n",
    "output_dim = 3 #columns\n",
    "\n",
    "torch.manual_seed(123)\n",
    "embedding_layer = torch.nn.Embedding(vocab_size, output_dim)"
   ]
  },
  {
   "cell_type": "markdown",
   "id": "17ad8742",
   "metadata": {},
   "source": [
    "Let's view the embedding layers weight matrix"
   ]
  },
  {
   "cell_type": "code",
   "execution_count": null,
   "id": "061ef300",
   "metadata": {},
   "outputs": [
    {
     "name": "stdout",
     "output_type": "stream",
     "text": [
      "Parameter containing:\n",
      "tensor([[ 0.3374, -0.1778, -0.1690],\n",
      "        [ 0.9178,  1.5810,  1.3010],\n",
      "        [ 1.2753, -0.2010, -0.1606],\n",
      "        [-0.4015,  0.9666, -1.1481],\n",
      "        [-1.1589,  0.3255, -0.6315],\n",
      "        [-2.8400, -0.7849, -1.4096]], requires_grad=True)\n"
     ]
    }
   ],
   "source": [
    "print(embedding_layer.weight)"
   ]
  },
  {
   "cell_type": "markdown",
   "id": "e859f5b5",
   "metadata": {},
   "source": [
    "The embedding layer contains a row for each vocabulary and a column for each dimension.\n"
   ]
  },
  {
   "cell_type": "markdown",
   "id": "3344afad",
   "metadata": {},
   "source": [
    "We can apply a token id to obtain the embedding vector. This becomes a map where we can access the row number using the token id as the key"
   ]
  },
  {
   "cell_type": "code",
   "execution_count": null,
   "id": "90a1f7cb",
   "metadata": {},
   "outputs": [],
   "source": [
    "print(embedding_layer(torch.tensor([3])))"
   ]
  },
  {
   "cell_type": "markdown",
   "id": "208e0e55",
   "metadata": {},
   "source": [
    "Let's now retrieve 3D vector embedding representations of multiple token ids"
   ]
  },
  {
   "cell_type": "code",
   "execution_count": null,
   "id": "2d166a78",
   "metadata": {},
   "outputs": [],
   "source": [
    "print(embedding_layer(input_ids))"
   ]
  },
  {
   "cell_type": "code",
   "execution_count": null,
   "id": "5ef156e8",
   "metadata": {},
   "outputs": [],
   "source": []
  }
 ],
 "metadata": {
  "kernelspec": {
   "display_name": "llm-from-scratch-ck85bdpM",
   "language": "python",
   "name": "python3"
  },
  "language_info": {
   "codemirror_mode": {
    "name": "ipython",
    "version": 3
   },
   "file_extension": ".py",
   "mimetype": "text/x-python",
   "name": "python",
   "nbconvert_exporter": "python",
   "pygments_lexer": "ipython3",
   "version": "3.11.9"
  }
 },
 "nbformat": 4,
 "nbformat_minor": 5
}
